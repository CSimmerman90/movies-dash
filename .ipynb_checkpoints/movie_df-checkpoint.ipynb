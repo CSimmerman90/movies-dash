{
 "cells": [
  {
   "cell_type": "code",
   "execution_count": 1,
   "id": "3ba052d6",
   "metadata": {},
   "outputs": [],
   "source": [
    "import pandas as pd"
   ]
  },
  {
   "cell_type": "code",
   "execution_count": 2,
   "id": "6b89ad81",
   "metadata": {},
   "outputs": [
    {
     "name": "stdout",
     "output_type": "stream",
     "text": [
      "                                                name rating      genre  year  \\\n",
      "0                                        The Shining      R      Drama  1980   \n",
      "1                                    The Blue Lagoon      R  Adventure  1980   \n",
      "2     Star Wars: Episode V - The Empire Strikes Back     PG     Action  1980   \n",
      "3                                          Airplane!     PG     Comedy  1980   \n",
      "4                                         Caddyshack      R     Comedy  1980   \n",
      "...                                              ...    ...        ...   ...   \n",
      "7663                                    More to Life    NaN      Drama  2020   \n",
      "7664                                     Dream Round    NaN     Comedy  2020   \n",
      "7665                                   Saving Mbango    NaN      Drama  2020   \n",
      "7666                                    It's Just Us    NaN      Drama  2020   \n",
      "7667                                       Tee em el    NaN     Horror  2020   \n",
      "\n",
      "                              released  score      votes         director  \\\n",
      "0        June 13, 1980 (United States)    8.4   927000.0  Stanley Kubrick   \n",
      "1         July 2, 1980 (United States)    5.8    65000.0   Randal Kleiser   \n",
      "2        June 20, 1980 (United States)    8.7  1200000.0   Irvin Kershner   \n",
      "3         July 2, 1980 (United States)    7.7   221000.0     Jim Abrahams   \n",
      "4        July 25, 1980 (United States)    7.3   108000.0     Harold Ramis   \n",
      "...                                ...    ...        ...              ...   \n",
      "7663  October 23, 2020 (United States)    3.1       18.0    Joseph Ebanks   \n",
      "7664  February 7, 2020 (United States)    4.7       36.0     Dusty Dukatz   \n",
      "7665         April 27, 2020 (Cameroon)    5.7       29.0     Nkanya Nkwai   \n",
      "7666   October 1, 2020 (United States)    NaN        NaN    James Randall   \n",
      "7667   August 19, 2020 (United States)    5.7        7.0     Pereko Mosia   \n",
      "\n",
      "                       writer              star         country      budget  \\\n",
      "0                Stephen King    Jack Nicholson  United Kingdom  19000000.0   \n",
      "1     Henry De Vere Stacpoole    Brooke Shields   United States   4500000.0   \n",
      "2              Leigh Brackett       Mark Hamill   United States  18000000.0   \n",
      "3                Jim Abrahams       Robert Hays   United States   3500000.0   \n",
      "4          Brian Doyle-Murray       Chevy Chase   United States   6000000.0   \n",
      "...                       ...               ...             ...         ...   \n",
      "7663            Joseph Ebanks      Shannon Bond   United States      7000.0   \n",
      "7664              Lisa Huston  Michael Saquella   United States         NaN   \n",
      "7665             Lynno Lovert      Onyama Laura   United States     58750.0   \n",
      "7666            James Randall     Christina Roz   United States     15000.0   \n",
      "7667             Pereko Mosia  Siyabonga Mabaso    South Africa         NaN   \n",
      "\n",
      "            gross                    company  runtime  \n",
      "0      46998772.0               Warner Bros.    146.0  \n",
      "1      58853106.0          Columbia Pictures    104.0  \n",
      "2     538375067.0                  Lucasfilm    124.0  \n",
      "3      83453539.0         Paramount Pictures     88.0  \n",
      "4      39846344.0             Orion Pictures     98.0  \n",
      "...           ...                        ...      ...  \n",
      "7663          NaN                        NaN     90.0  \n",
      "7664          NaN  Cactus Blue Entertainment     90.0  \n",
      "7665          NaN           Embi Productions      NaN  \n",
      "7666          NaN                        NaN    120.0  \n",
      "7667          NaN                PK 65 Films    102.0  \n",
      "\n",
      "[7668 rows x 15 columns]\n"
     ]
    }
   ],
   "source": [
    "df = pd.read_csv('movies.csv')\n",
    "\n",
    "print(df)"
   ]
  },
  {
   "cell_type": "code",
   "execution_count": 6,
   "id": "f14f3cdd",
   "metadata": {},
   "outputs": [
    {
     "data": {
      "text/html": [
       "<div>\n",
       "<style scoped>\n",
       "    .dataframe tbody tr th:only-of-type {\n",
       "        vertical-align: middle;\n",
       "    }\n",
       "\n",
       "    .dataframe tbody tr th {\n",
       "        vertical-align: top;\n",
       "    }\n",
       "\n",
       "    .dataframe thead th {\n",
       "        text-align: right;\n",
       "    }\n",
       "</style>\n",
       "<table border=\"1\" class=\"dataframe\">\n",
       "  <thead>\n",
       "    <tr style=\"text-align: right;\">\n",
       "      <th></th>\n",
       "      <th>genre</th>\n",
       "      <th>year</th>\n",
       "      <th>gross</th>\n",
       "    </tr>\n",
       "  </thead>\n",
       "  <tbody>\n",
       "    <tr>\n",
       "      <th>0</th>\n",
       "      <td>Drama</td>\n",
       "      <td>1980</td>\n",
       "      <td>46998772.0</td>\n",
       "    </tr>\n",
       "    <tr>\n",
       "      <th>1</th>\n",
       "      <td>Adventure</td>\n",
       "      <td>1980</td>\n",
       "      <td>58853106.0</td>\n",
       "    </tr>\n",
       "    <tr>\n",
       "      <th>2</th>\n",
       "      <td>Action</td>\n",
       "      <td>1980</td>\n",
       "      <td>538375067.0</td>\n",
       "    </tr>\n",
       "    <tr>\n",
       "      <th>3</th>\n",
       "      <td>Comedy</td>\n",
       "      <td>1980</td>\n",
       "      <td>83453539.0</td>\n",
       "    </tr>\n",
       "    <tr>\n",
       "      <th>4</th>\n",
       "      <td>Comedy</td>\n",
       "      <td>1980</td>\n",
       "      <td>39846344.0</td>\n",
       "    </tr>\n",
       "  </tbody>\n",
       "</table>\n",
       "</div>"
      ],
      "text/plain": [
       "       genre  year        gross\n",
       "0      Drama  1980   46998772.0\n",
       "1  Adventure  1980   58853106.0\n",
       "2     Action  1980  538375067.0\n",
       "3     Comedy  1980   83453539.0\n",
       "4     Comedy  1980   39846344.0"
      ]
     },
     "execution_count": 6,
     "metadata": {},
     "output_type": "execute_result"
    }
   ],
   "source": [
    "genre_bo = df.drop(['name','rating', 'released', 'score', 'votes', 'director', 'writer', 'star', 'country', 'budget', 'company', 'runtime'], axis=1)\n",
    "\n",
    "genre_bo.head()"
   ]
  },
  {
   "cell_type": "code",
   "execution_count": 22,
   "id": "3285878f",
   "metadata": {},
   "outputs": [
    {
     "data": {
      "text/plain": [
       "genre   year\n",
       "Action  1980    9.997018e+08\n",
       "        1981    7.218308e+08\n",
       "        1982    6.417541e+08\n",
       "        1983    1.053779e+09\n",
       "        1984    1.656258e+09\n",
       "        1985    8.609607e+08\n",
       "        1986    1.478645e+09\n",
       "        1987    9.876162e+08\n",
       "        1988    1.093582e+09\n",
       "        1989    2.148833e+09\n",
       "        1990    2.337056e+09\n",
       "        1991    2.009066e+09\n",
       "        1992    2.001089e+09\n",
       "        1993    2.837809e+09\n",
       "        1994    2.794979e+09\n",
       "        1995    3.157736e+09\n",
       "        1996    4.053631e+09\n",
       "        1997    5.300655e+09\n",
       "        1998    3.845554e+09\n",
       "        1999    4.222485e+09\n",
       "Name: gross, dtype: float64"
      ]
     },
     "execution_count": 22,
     "metadata": {},
     "output_type": "execute_result"
    }
   ],
   "source": [
    "genre_bo2 = genre_bo.groupby(['genre', 'year'])['gross'].sum()\n",
    "\n",
    "genre_bo2.head(20)"
   ]
  },
  {
   "cell_type": "code",
   "execution_count": 24,
   "id": "f73127aa",
   "metadata": {},
   "outputs": [
    {
     "ename": "AttributeError",
     "evalue": "'Series' object has no attribute 'columns'",
     "output_type": "error",
     "traceback": [
      "\u001b[1;31m---------------------------------------------------------------------------\u001b[0m",
      "\u001b[1;31mAttributeError\u001b[0m                            Traceback (most recent call last)",
      "Input \u001b[1;32mIn [24]\u001b[0m, in \u001b[0;36m<cell line: 1>\u001b[1;34m()\u001b[0m\n\u001b[1;32m----> 1\u001b[0m \u001b[43mgenre_bo2\u001b[49m\u001b[38;5;241;43m.\u001b[39;49m\u001b[43mcolumns\u001b[49m\n",
      "File \u001b[1;32m~\\anaconda3\\lib\\site-packages\\pandas\\core\\generic.py:5575\u001b[0m, in \u001b[0;36mNDFrame.__getattr__\u001b[1;34m(self, name)\u001b[0m\n\u001b[0;32m   5568\u001b[0m \u001b[38;5;28;01mif\u001b[39;00m (\n\u001b[0;32m   5569\u001b[0m     name \u001b[38;5;129;01mnot\u001b[39;00m \u001b[38;5;129;01min\u001b[39;00m \u001b[38;5;28mself\u001b[39m\u001b[38;5;241m.\u001b[39m_internal_names_set\n\u001b[0;32m   5570\u001b[0m     \u001b[38;5;129;01mand\u001b[39;00m name \u001b[38;5;129;01mnot\u001b[39;00m \u001b[38;5;129;01min\u001b[39;00m \u001b[38;5;28mself\u001b[39m\u001b[38;5;241m.\u001b[39m_metadata\n\u001b[0;32m   5571\u001b[0m     \u001b[38;5;129;01mand\u001b[39;00m name \u001b[38;5;129;01mnot\u001b[39;00m \u001b[38;5;129;01min\u001b[39;00m \u001b[38;5;28mself\u001b[39m\u001b[38;5;241m.\u001b[39m_accessors\n\u001b[0;32m   5572\u001b[0m     \u001b[38;5;129;01mand\u001b[39;00m \u001b[38;5;28mself\u001b[39m\u001b[38;5;241m.\u001b[39m_info_axis\u001b[38;5;241m.\u001b[39m_can_hold_identifiers_and_holds_name(name)\n\u001b[0;32m   5573\u001b[0m ):\n\u001b[0;32m   5574\u001b[0m     \u001b[38;5;28;01mreturn\u001b[39;00m \u001b[38;5;28mself\u001b[39m[name]\n\u001b[1;32m-> 5575\u001b[0m \u001b[38;5;28;01mreturn\u001b[39;00m \u001b[38;5;28;43mobject\u001b[39;49m\u001b[38;5;241;43m.\u001b[39;49m\u001b[38;5;21;43m__getattribute__\u001b[39;49m\u001b[43m(\u001b[49m\u001b[38;5;28;43mself\u001b[39;49m\u001b[43m,\u001b[49m\u001b[43m \u001b[49m\u001b[43mname\u001b[49m\u001b[43m)\u001b[49m\n",
      "\u001b[1;31mAttributeError\u001b[0m: 'Series' object has no attribute 'columns'"
     ]
    }
   ],
   "source": [
    "genre_bo2.columns"
   ]
  }
 ],
 "metadata": {
  "kernelspec": {
   "display_name": "Python 3 (ipykernel)",
   "language": "python",
   "name": "python3"
  },
  "language_info": {
   "codemirror_mode": {
    "name": "ipython",
    "version": 3
   },
   "file_extension": ".py",
   "mimetype": "text/x-python",
   "name": "python",
   "nbconvert_exporter": "python",
   "pygments_lexer": "ipython3",
   "version": "3.9.12"
  }
 },
 "nbformat": 4,
 "nbformat_minor": 5
}
