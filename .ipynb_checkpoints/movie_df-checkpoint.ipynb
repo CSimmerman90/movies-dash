{
 "cells": [
  {
   "cell_type": "code",
   "execution_count": 1,
   "id": "8191c2e0",
   "metadata": {},
   "outputs": [],
   "source": [
    "import pandas as pd"
   ]
  },
  {
   "cell_type": "code",
   "execution_count": 2,
   "id": "a0134e2b",
   "metadata": {},
   "outputs": [
    {
     "name": "stdout",
     "output_type": "stream",
     "text": [
      "                                                name rating      genre  year  \\\n",
      "0                                        The Shining      R      Drama  1980   \n",
      "1                                    The Blue Lagoon      R  Adventure  1980   \n",
      "2     Star Wars: Episode V - The Empire Strikes Back     PG     Action  1980   \n",
      "3                                          Airplane!     PG     Comedy  1980   \n",
      "4                                         Caddyshack      R     Comedy  1980   \n",
      "...                                              ...    ...        ...   ...   \n",
      "7663                                    More to Life    NaN      Drama  2020   \n",
      "7664                                     Dream Round    NaN     Comedy  2020   \n",
      "7665                                   Saving Mbango    NaN      Drama  2020   \n",
      "7666                                    It's Just Us    NaN      Drama  2020   \n",
      "7667                                       Tee em el    NaN     Horror  2020   \n",
      "\n",
      "                              released  score      votes         director  \\\n",
      "0        June 13, 1980 (United States)    8.4   927000.0  Stanley Kubrick   \n",
      "1         July 2, 1980 (United States)    5.8    65000.0   Randal Kleiser   \n",
      "2        June 20, 1980 (United States)    8.7  1200000.0   Irvin Kershner   \n",
      "3         July 2, 1980 (United States)    7.7   221000.0     Jim Abrahams   \n",
      "4        July 25, 1980 (United States)    7.3   108000.0     Harold Ramis   \n",
      "...                                ...    ...        ...              ...   \n",
      "7663  October 23, 2020 (United States)    3.1       18.0    Joseph Ebanks   \n",
      "7664  February 7, 2020 (United States)    4.7       36.0     Dusty Dukatz   \n",
      "7665         April 27, 2020 (Cameroon)    5.7       29.0     Nkanya Nkwai   \n",
      "7666   October 1, 2020 (United States)    NaN        NaN    James Randall   \n",
      "7667   August 19, 2020 (United States)    5.7        7.0     Pereko Mosia   \n",
      "\n",
      "                       writer              star         country      budget  \\\n",
      "0                Stephen King    Jack Nicholson  United Kingdom  19000000.0   \n",
      "1     Henry De Vere Stacpoole    Brooke Shields   United States   4500000.0   \n",
      "2              Leigh Brackett       Mark Hamill   United States  18000000.0   \n",
      "3                Jim Abrahams       Robert Hays   United States   3500000.0   \n",
      "4          Brian Doyle-Murray       Chevy Chase   United States   6000000.0   \n",
      "...                       ...               ...             ...         ...   \n",
      "7663            Joseph Ebanks      Shannon Bond   United States      7000.0   \n",
      "7664              Lisa Huston  Michael Saquella   United States         NaN   \n",
      "7665             Lynno Lovert      Onyama Laura   United States     58750.0   \n",
      "7666            James Randall     Christina Roz   United States     15000.0   \n",
      "7667             Pereko Mosia  Siyabonga Mabaso    South Africa         NaN   \n",
      "\n",
      "            gross                    company  runtime  \n",
      "0      46998772.0               Warner Bros.    146.0  \n",
      "1      58853106.0          Columbia Pictures    104.0  \n",
      "2     538375067.0                  Lucasfilm    124.0  \n",
      "3      83453539.0         Paramount Pictures     88.0  \n",
      "4      39846344.0             Orion Pictures     98.0  \n",
      "...           ...                        ...      ...  \n",
      "7663          NaN                        NaN     90.0  \n",
      "7664          NaN  Cactus Blue Entertainment     90.0  \n",
      "7665          NaN           Embi Productions      NaN  \n",
      "7666          NaN                        NaN    120.0  \n",
      "7667          NaN                PK 65 Films    102.0  \n",
      "\n",
      "[7668 rows x 15 columns]\n"
     ]
    }
   ],
   "source": [
    "df = pd.read_csv('movies.csv')\n",
    "\n",
    "print(df)"
   ]
  },
  {
   "cell_type": "code",
   "execution_count": 6,
   "id": "e735ca9c",
   "metadata": {},
   "outputs": [
    {
     "data": {
      "text/html": [
       "<div>\n",
       "<style scoped>\n",
       "    .dataframe tbody tr th:only-of-type {\n",
       "        vertical-align: middle;\n",
       "    }\n",
       "\n",
       "    .dataframe tbody tr th {\n",
       "        vertical-align: top;\n",
       "    }\n",
       "\n",
       "    .dataframe thead th {\n",
       "        text-align: right;\n",
       "    }\n",
       "</style>\n",
       "<table border=\"1\" class=\"dataframe\">\n",
       "  <thead>\n",
       "    <tr style=\"text-align: right;\">\n",
       "      <th></th>\n",
       "      <th>genre</th>\n",
       "      <th>year</th>\n",
       "      <th>gross</th>\n",
       "    </tr>\n",
       "  </thead>\n",
       "  <tbody>\n",
       "    <tr>\n",
       "      <th>0</th>\n",
       "      <td>Drama</td>\n",
       "      <td>1980</td>\n",
       "      <td>46998772.0</td>\n",
       "    </tr>\n",
       "    <tr>\n",
       "      <th>1</th>\n",
       "      <td>Adventure</td>\n",
       "      <td>1980</td>\n",
       "      <td>58853106.0</td>\n",
       "    </tr>\n",
       "    <tr>\n",
       "      <th>2</th>\n",
       "      <td>Action</td>\n",
       "      <td>1980</td>\n",
       "      <td>538375067.0</td>\n",
       "    </tr>\n",
       "    <tr>\n",
       "      <th>3</th>\n",
       "      <td>Comedy</td>\n",
       "      <td>1980</td>\n",
       "      <td>83453539.0</td>\n",
       "    </tr>\n",
       "    <tr>\n",
       "      <th>4</th>\n",
       "      <td>Comedy</td>\n",
       "      <td>1980</td>\n",
       "      <td>39846344.0</td>\n",
       "    </tr>\n",
       "  </tbody>\n",
       "</table>\n",
       "</div>"
      ],
      "text/plain": [
       "       genre  year        gross\n",
       "0      Drama  1980   46998772.0\n",
       "1  Adventure  1980   58853106.0\n",
       "2     Action  1980  538375067.0\n",
       "3     Comedy  1980   83453539.0\n",
       "4     Comedy  1980   39846344.0"
      ]
     },
     "execution_count": 6,
     "metadata": {},
     "output_type": "execute_result"
    }
   ],
   "source": [
    "genre_bo = df.drop(['name','rating', 'released', 'score', 'votes', 'director', 'writer', 'star', 'country', 'budget', 'company', 'runtime'], axis=1)\n",
    "\n",
    "genre_bo.head()"
   ]
  },
  {
   "cell_type": "code",
   "execution_count": 18,
   "id": "f1f72da0",
   "metadata": {},
   "outputs": [
    {
     "data": {
      "text/plain": [
       "genre     year\n",
       "Thriller  1988           0.0\n",
       "          1990    44926706.0\n",
       "          2005    96258201.0\n",
       "          2008           0.0\n",
       "          2014    54323210.0\n",
       "          2015    52425855.0\n",
       "          2019    36599361.0\n",
       "Western   1981    12000000.0\n",
       "          1982     1736123.0\n",
       "          1993    18289763.0\n",
       "Name: gross, dtype: float64"
      ]
     },
     "execution_count": 18,
     "metadata": {},
     "output_type": "execute_result"
    }
   ],
   "source": [
    "genre_bo2 = genre_bo.groupby(['genre', 'year'])['gross'].sum()\n",
    "\n",
    "genre_bo2.tail(10)"
   ]
  },
  {
   "cell_type": "code",
   "execution_count": null,
   "id": "eddd4af1",
   "metadata": {},
   "outputs": [],
   "source": []
  }
 ],
 "metadata": {
  "kernelspec": {
   "display_name": "Python 3.10.5 64-bit",
   "language": "python",
   "name": "python3"
  },
  "language_info": {
   "codemirror_mode": {
    "name": "ipython",
    "version": 3
   },
   "file_extension": ".py",
   "mimetype": "text/x-python",
   "name": "python",
   "nbconvert_exporter": "python",
   "pygments_lexer": "ipython3",
   "version": "3.10.5"
  },
  "vscode": {
   "interpreter": {
    "hash": "edf259275ad4a72d4dd5b452264ad5fb2b635233dff2a31edc6ebc740e55e21b"
   }
  }
 },
 "nbformat": 4,
 "nbformat_minor": 5
}
